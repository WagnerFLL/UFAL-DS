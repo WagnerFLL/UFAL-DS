{
 "cells": [
  {
   "cell_type": "code",
   "execution_count": 1,
   "metadata": {},
   "outputs": [],
   "source": [
    "import csv\n",
    "import gzip\n",
    "import io\n",
    "\n",
    "import os\n",
    "import sys\n",
    "import glob\n",
    "import datetime\n",
    "import warnings\n",
    "from functools import partial\n",
    "from unicodedata import normalize\n",
    "\n",
    "import numpy as np\n",
    "import pandas as pd\n",
    "from pandas import DataFrame\n",
    "from pandas_profiling import ProfileReport\n",
    "\n",
    "import matplotlib.pyplot as plt\n",
    "import matplotlib.ticker as ticker\n",
    "import seaborn as sns\n",
    "\n",
    "\n",
    "\n",
    "warnings.filterwarnings(\"ignore\")\n",
    "\n",
    "%matplotlib inline\n",
    "\n",
    "color = (0.45, 0.57, 1)\n",
    "sns.set(style=\"whitegrid\")\n",
    "\n",
    "pd.set_option('display.max_rows', None)\n",
    "pd.set_option('display.max_columns', None)\n",
    "pd.set_option('use_inf_as_na', True)\n",
    "\n",
    "PROJECT_NAME = 'UFAL-DS'\n",
    "#curdir = os.path.abspath(os.path.curdir).split('\\\\')\n",
    "#project_index = curdir.index(PROJECT_NAME)\n",
    "#os.chdir('/' + os.path.join(*curdir[:project_index + 1]))"
   ]
  },
  {
   "cell_type": "code",
   "execution_count": null,
   "metadata": {},
   "outputs": [],
   "source": [
    "directory:str = \"data/raw/abono/*.csv\""
   ]
  },
  {
   "cell_type": "code",
   "execution_count": null,
   "metadata": {},
   "outputs": [],
   "source": [
    "cols_dict = {\n",
    "    'Denominação do órgão de atuação' : 'agency', \n",
    "    'Val' : 'value', 'UF da Residência' : 'state',\n",
    "    'Denominação unidade organizacional' : 'unit', \n",
    "    'Nível de Escolaridade' : 'educational_level', \n",
    "    'Quantidade de anos no Serviço público' : 'years',\n",
    "    'Quantidade de meses no Serviço público' : 'months',\n",
    "    'Descrição do cargo emprego' : 'role', 'CPF' : 'cpf',\n",
    "    'UF da UPAG de vinculação' : 'upag_state', 'Nome' : 'name',\n",
    "    'Situação servidor' : 'status', 'Cidade da residência' : 'city',\n",
    "    'Ano/Mês inicial do abono de permanência' : 'allowance_start_date',\n",
    "}\n",
    "\n",
    "cat_cols = [\n",
    "    'name', 'role', 'educational_level', 'agency', \n",
    "    'upag_state', 'unit', 'state', 'city', 'status',\n",
    "]\n",
    "\n",
    "num_cols = [\n",
    "    'years', 'months'\n",
    "]"
   ]
  },
  {
   "cell_type": "code",
   "execution_count": null,
   "metadata": {},
   "outputs": [],
   "source": [
    "def sanitize(df: DataFrame) -> DataFrame:\n",
    "    df = df.rename(columns=cols_dict)\n",
    "    \n",
    "    df['value'] = df['value'].str.replace(',', '.').astype(float)\n",
    "    df['allowance_start_date'] = pd.to_datetime(\n",
    "        df['allowance_start_date'], format='%Y%m'\n",
    "    )\n",
    "    \n",
    "    for col in cat_cols:\n",
    "        df[col] = df[col].str.lower()\n",
    "    \n",
    "    return df\n",
    "\n",
    "\n",
    "def read_data(directory:str = \"C:/Users/wagne/Documents/Aninha/Projetos/data/raw/abono*.csv\") -> DataFrame:\n",
    "    df = pd.concat(\n",
    "        [\n",
    "            pd.read_csv(file, encoding=\"ISO-8859-1\", sep=';') \n",
    "            for file in glob.glob(directory)\n",
    "        ],\n",
    "        ignore_index=False\n",
    "    )\n",
    "    \n",
    "    df = df.reset_index()\n",
    "    new_columns = list(df.columns[1:]) + [\"NaN\"]\n",
    "    cols = {\n",
    "        old:new for old, new in zip(df.columns, new_columns)\n",
    "    }\n",
    "    \n",
    "    df.rename(columns=cols, inplace=True)\n",
    "    df.drop(\"NaN\", axis=1, inplace=True)\n",
    "    \n",
    "    df = sanitize(df)\n",
    "    \n",
    "    return df"
   ]
  },
  {
   "cell_type": "code",
   "execution_count": null,
   "metadata": {},
   "outputs": [],
   "source": [
    "dataset = read_data()\n",
    "dataset.head()"
   ]
  },
  {
   "cell_type": "code",
   "execution_count": null,
   "metadata": {},
   "outputs": [],
   "source": [
    "dataset.shape"
   ]
  },
  {
   "cell_type": "code",
   "execution_count": null,
   "metadata": {},
   "outputs": [],
   "source": [
    "dataset.drop_duplicates(subset=\"name\",  keep=\"last\")"
   ]
  },
  {
   "cell_type": "code",
   "execution_count": null,
   "metadata": {},
   "outputs": [],
   "source": [
    "dataset.dtypes"
   ]
  },
  {
   "cell_type": "code",
   "execution_count": null,
   "metadata": {},
   "outputs": [],
   "source": [
    "dataset.drop(dataset[dataset.allowance_start_date < '2003-12-16'].index)"
   ]
  },
  {
   "cell_type": "code",
   "execution_count": null,
   "metadata": {},
   "outputs": [],
   "source": [
    "#dataset['role_gp'] = dataset['role'].str.strip()\n",
    "dataset.loc[dataset.role.str.contains(\"medico\"), \"role_gp\"] = \"medico\"\n",
    "dataset.loc[dataset.role.str.contains(\"psicologo\"), \"role_gp\"] = \"psicologo\"\n",
    "dataset.loc[dataset.role.str.contains(\"odont\"), \"role_gp\"] = \"odontologo\"\n",
    "dataset.loc[dataset.role.str.contains(\"enfermei\"), \"role_gp\"] = \"enfermeiro\"\n",
    "dataset.loc[dataset.role.str.contains(\"tecnico\"), \"role_gp\"] = \"tecnico\"\n",
    "dataset.loc[dataset.role.str.contains(\"tec\"), \"role_gp\"] = \"tecnico\"\n",
    "dataset.loc[dataset.role.str.contains(\"professor\"), \"role_gp\"] = \"professor\"\n",
    "dataset.loc[dataset.role.str.contains(\"agente\"), \"role_gp\"] = \"agente\"\n",
    "dataset.loc[dataset.role.str.contains(\"ag \"), \"role_gp\"] = \"agente\"\n",
    "dataset.loc[dataset.role.str.contains(\"aux\"), \"role_gp\"] = \"auxiliar\"\n",
    "dataset.loc[dataset.role.str.contains(\"analista\"), \"role_gp\"] = \"analista\"\n",
    "dataset.loc[dataset.role.str.contains(\"assistente\"), \"role_gp\"] = \"assistente\"\n",
    "dataset.loc[dataset.role.str.contains(\"operador\"), \"role_gp\"] = \"operador\"\n",
    "dataset.loc[dataset.role.str.contains(\"policia\"), \"role_gp\"] = \"policia\"\n",
    "dataset.loc[dataset.role.str.contains(\"engenhe\"), \"role_gp\"] = \"engenheiro\"\n",
    "dataset.loc[dataset.role.str.contains(\"especialista\"), \"role_gp\"] = \"especialista\"\n",
    "dataset.loc[dataset.role.str.contains(\"servente\"), \"role_gp\"] = \"servente\"\n",
    "dataset.loc[dataset.role.str.contains(\"auditor\"), \"role_gp\"] = \"auditor\"\n",
    "dataset.loc[dataset.role.str.contains(\"administrador\"), \"role_gp\"] = \"administrador\"\n",
    "dataset.loc[dataset.role.str.contains(\"motorista\"), \"role_gp\"] = \"motorista\"\n",
    "dataset.loc[dataset.role.str.contains(\"datilografo\"), \"role_gp\"] = \"datilografo\"\n",
    "dataset.loc[dataset.role.str.contains(\"procurador\"), \"role_gp\"] = \"procurador\"\n",
    "dataset.loc[dataset.role.str.contains(\"advogado\"), \"role_gp\"] = \"advogado\"\n",
    "dataset.loc[dataset.role.str.contains(\"recepcionista\"), \"role_gp\"] = \"recepcionista\"\n",
    "dataset.loc[dataset.role.str.contains(\"pesq\"), \"role_gp\"] = \"pesquisador\"\n",
    "dataset.loc[dataset.role.str.contains(\"esp\"), \"role_gp\"] = \"especialista\"\n",
    "\n",
    "dataset.loc[dataset.role_gp.isna(), \"role_gp\"] = \"outros\" "
   ]
  },
  {
   "cell_type": "code",
   "execution_count": null,
   "metadata": {},
   "outputs": [],
   "source": [
    "dataset['agency_gp'] = dataset['agency'].str.strip()\n",
    "\n",
    "dataset.loc[dataset.agency_gp.str.contains(\"instituto federal\"), \"agency_gp\"] = \"instituto\"\n",
    "dataset.loc[dataset.agency_gp.str.contains(\"instituto fed.\"), \"agency_gp\"] = \"instituto_federal\"\n",
    "dataset.loc[dataset.agency_gp.str.contains(\"colegio pedro ii\"), \"agency_gp\"] = \"instituto_federal\"\n",
    "dataset.loc[dataset.agency_gp.str.contains(\"instituto\"), \"agency_gp\"] = \"instituto\"\n",
    "dataset.loc[dataset.agency_gp.str.contains(\"universidade federal\"), \"agency_gp\"] = \"universidade\"\n",
    "dataset.loc[dataset.agency_gp.str.contains(\"universidade fed.\"), \"agency_gp\"] = \"universidade\"\n",
    "dataset.loc[dataset.agency_gp.str.contains(\"univ.\"), \"agency_gp\"] = \"universidade\"\n",
    "dataset.loc[dataset.agency_gp.str.contains(\"uni.fed\"), \"agency_gp\"] = \"universidade\"\n",
    "dataset.loc[dataset.agency_gp.str.contains(\"fund. inst. brasil. geog. e estatistica\"), \"agency_gp\"] = \"ibge\"\n",
    "dataset.loc[dataset.agency_gp.str.contains(\"fundacao\"), \"agency_gp\"] = \"fundacao\"\n",
    "dataset.loc[dataset.agency_gp.str.contains(\"fund\"), \"agency_gp\"] = \"fundacao\"\n",
    "dataset.loc[dataset.agency_gp.str.contains(\"instituto nacional de seguro social\"), \"agency_gp\"] = \"inss\"\n",
    "dataset.loc[dataset.agency_gp.str.contains(\"agencia\"), \"agency_gp\"] = \"agencia\"\n",
    "dataset.loc[dataset.agency_gp.str.contains(\"minist\"), \"agency_gp\"] = \"ministerio\"\n",
    "dataset.loc[dataset.agency_gp.str.contains(\"superin\"), \"agency_gp\"] = \"superintendencia\"\n",
    "dataset.loc[dataset.agency_gp.str.contains(\"advocacia\"), \"agency_gp\"] = \"advocacia\"\n",
    "\n",
    "#dataset.loc[dataset.agency_gp.isna(), \"agency_gp\"] = \"outros\" "
   ]
  },
  {
   "cell_type": "code",
   "execution_count": null,
   "metadata": {},
   "outputs": [],
   "source": [
    "plt.figure(figsize=(15,8))\n",
    "\n",
    "chart = sns.boxplot(\n",
    "    x=\"agency_gp\", y=\"value\", \n",
    "    data=dataset, color=color, showfliers=False\n",
    ")\n",
    "\n",
    "_ = chart.set_xticklabels(chart.get_xticklabels(), rotation=90, horizontalalignment='right')"
   ]
  },
  {
   "cell_type": "code",
   "execution_count": null,
   "metadata": {},
   "outputs": [],
   "source": [
    "dataset.loc[dataset.upag_state == \"pi\", \"region\"] = \"nordeste\"\n",
    "dataset.loc[dataset.upag_state == \"ma\", \"region\"] = \"nordeste\"\n",
    "dataset.loc[dataset.upag_state == \"ce\", \"region\"] = \"nordeste\"\n",
    "dataset.loc[dataset.upag_state == \"rn\", \"region\"] = \"nordeste\"\n",
    "dataset.loc[dataset.upag_state == \"pb\", \"region\"] = \"nordeste\"\n",
    "dataset.loc[dataset.upag_state == \"pe\", \"region\"] = \"nordeste\"\n",
    "dataset.loc[dataset.upag_state == \"al\", \"region\"] = \"nordeste\"\n",
    "dataset.loc[dataset.upag_state == \"se\", \"region\"] = \"nordeste\"\n",
    "dataset.loc[dataset.upag_state == \"ba\", \"region\"] = \"nordeste\"\n",
    "\n",
    "dataset.loc[dataset.upag_state == \"es\", \"region\"] = \"sudeste\"\n",
    "dataset.loc[dataset.upag_state == \"rj\", \"region\"] = \"sudeste\"\n",
    "dataset.loc[dataset.upag_state == \"sp\", \"region\"] = \"sudeste\"\n",
    "dataset.loc[dataset.upag_state == \"mg\", \"region\"] = \"sudeste\"\n",
    "\n",
    "dataset.loc[dataset.upag_state == \"ac\", \"region\"] = \"norte\"\n",
    "dataset.loc[dataset.upag_state == \"am\", \"region\"] = \"norte\"\n",
    "dataset.loc[dataset.upag_state == \"ro\", \"region\"] = \"norte\"\n",
    "dataset.loc[dataset.upag_state == \"rr\", \"region\"] = \"norte\"\n",
    "dataset.loc[dataset.upag_state == \"am\", \"region\"] = \"norte\"\n",
    "dataset.loc[dataset.upag_state == \"pa\", \"region\"] = \"norte\"\n",
    "dataset.loc[dataset.upag_state == \"to\", \"region\"] = \"norte\"\n",
    "\n",
    "dataset.loc[dataset.upag_state == \"df\", \"region\"] = \"centro-oeste\"\n",
    "dataset.loc[dataset.upag_state == \"go\", \"region\"] = \"centro-oeste\"\n",
    "dataset.loc[dataset.upag_state == \"mt\", \"region\"] = \"centro-oeste\"\n",
    "dataset.loc[dataset.upag_state == \"ms\", \"region\"] = \"centro-oeste\"\n",
    "\n",
    "dataset.loc[dataset.upag_state == \"pr\", \"region\"] = \"sul\"\n",
    "dataset.loc[dataset.upag_state == \"rs\", \"region\"] = \"sul\"\n",
    "dataset.loc[dataset.upag_state == \"sc\", \"region\"] = \"sul\"\n",
    "\n"
   ]
  },
  {
   "cell_type": "code",
   "execution_count": null,
   "metadata": {},
   "outputs": [],
   "source": [
    "dataset.loc[\n",
    "    (dataset.educational_level == '4a. serie do primeiro grau completa          ') |\n",
    "    (dataset.educational_level == 'ensino fundamental incompleto                ') |\n",
    "    (dataset.educational_level == 'primeiro grau incomp.-ate a 4a.serie incomp. '),\n",
    "    \"educational_level\"\n",
    "] = \"1º grau incompleto\"\n",
    "\n",
    "dataset.loc[\n",
    "    dataset.educational_level == 'segundo grau incompleto                      ',\n",
    "    \"educational_level\"\n",
    "] = \"2º grau incompleto\"\n",
    "\n",
    "dataset.loc[\n",
    "    dataset.educational_level == 'alfabetizado sem cursos regulares            ',\n",
    "    \"educational_level\"\n",
    "] = \"alfabetizado\"\n",
    "\n",
    "\n",
    "dataset[\"educational_level\"] = dataset[\"educational_level\"].str.rstrip()"
   ]
  },
  {
   "cell_type": "code",
   "execution_count": null,
   "metadata": {},
   "outputs": [],
   "source": [
    "def load_name_data():\n",
    "    fobj = io.TextIOWrapper(gzip.open(\"C:/Users/wagne/Documents/Aninha/Projetos/data/raw/censo/nomes.csv.gz\"), encoding=\"utf-8\")\n",
    "    csv_reader = csv.DictReader(fobj)\n",
    "    data = {\n",
    "        row[\"first_name\"]: row[\"classification\"]\n",
    "        for row in csv_reader\n",
    "    }\n",
    "    fobj.close()\n",
    "    return data\n",
    "\n",
    "name_data = load_name_data()\n",
    "\n",
    "print(f\"Dicionário de nomes do Censo 2010 contendo {len(name_data)} nomes.\")"
   ]
  },
  {
   "cell_type": "code",
   "execution_count": null,
   "metadata": {},
   "outputs": [],
   "source": [
    "def encode(name):\n",
    "    ascii_name = normalize(\"NFKD\", name).encode(\"ascii\", errors=\"ignore\").decode(\"ascii\")\n",
    "    return ascii_name.upper()\n",
    "\n",
    "def classify_gender(name):\n",
    "    encoded_name = encode(name)\n",
    "    try:\n",
    "        gender = name_data[encoded_name]\n",
    "        return gender\n",
    "    except:\n",
    "        return \"NaN\"\n",
    "\n",
    "print(classify_gender(\"Wagner\"))"
   ]
  },
  {
   "cell_type": "code",
   "execution_count": null,
   "metadata": {},
   "outputs": [],
   "source": [
    "dataset[\"gender\"] = dataset.name.str.split(\" \").str[0]\n",
    "dataset[\"gender\"] = dataset.gender.map(classify_gender)"
   ]
  },
  {
   "cell_type": "code",
   "execution_count": null,
   "metadata": {},
   "outputs": [],
   "source": [
    "f, (ax_box, ax_hist) = plt.subplots(2, sharex=True, gridspec_kw={\"height_ratios\": (0.25, 1)}, figsize=(16,8))\n",
    "mean = dataset.value.mean()\n",
    "median = dataset.value.median()\n",
    "\n",
    "_ = sns.boxplot(dataset.value, ax=ax_box,  color=color, showfliers=True)\n",
    "_ = ax_box.axvline(mean, color='r', linestyle='--')\n",
    "_ = ax_box.axvline(median, color='g', linestyle='-')\n",
    "_ = ax_box.set(xlabel='')\n",
    "\n",
    "_ = sns.distplot(dataset.value, ax=ax_hist, color=color, kde=False)\n",
    "_ = ax_hist.axvline(mean, color='r', linestyle='--')\n",
    "_ = ax_hist.axvline(median, color='g', linestyle='-')\n",
    "_ = ax_hist.xaxis.set_major_locator(ticker.MultipleLocator(5000))\n",
    "\n",
    "_ = plt.legend({'Mean':mean,'Median':median}, fontsize='large')"
   ]
  },
  {
   "cell_type": "code",
   "execution_count": null,
   "metadata": {},
   "outputs": [],
   "source": [
    "dataset.to_csv('C:/Users/Aninha/Documents/Area de Trabalho/UFAL-DS/data/raw/preprocessing/abono.csv', sep=',')"
   ]
  }
 ],
 "metadata": {
  "kernelspec": {
   "display_name": "Python 3",
   "language": "python",
   "name": "python3"
  },
  "language_info": {
   "codemirror_mode": {
    "name": "ipython",
    "version": 3
   },
   "file_extension": ".py",
   "mimetype": "text/x-python",
   "name": "python",
   "nbconvert_exporter": "python",
   "pygments_lexer": "ipython3",
   "version": "3.8.3"
  }
 },
 "nbformat": 4,
 "nbformat_minor": 4
}
