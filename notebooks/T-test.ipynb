{
 "cells": [
  {
   "cell_type": "code",
   "execution_count": 1,
   "metadata": {},
   "outputs": [],
   "source": [
    "import os\n",
    "import sys\n",
    "import pandas as pd\n",
    "import numpy as np\n",
    "import plotly.express as px\n",
    "from scipy import stats\n",
    "\n",
    "\n",
    "PROJECT_NAME = 'UFAL-DS'\n",
    "curdir = os.path.abspath(os.path.curdir).split('/')\n",
    "project_index = curdir.index(PROJECT_NAME)\n",
    "os.chdir('/' + os.path.join(*curdir[:project_index + 1]))"
   ]
  },
  {
   "cell_type": "code",
   "execution_count": 6,
   "metadata": {},
   "outputs": [
    {
     "data": {
      "text/plain": [
       "(414297, 19)"
      ]
     },
     "execution_count": 6,
     "metadata": {},
     "output_type": "execute_result"
    }
   ],
   "source": [
    "aposentados = pd.read_csv(\"data/processed/aposentados.csv\")\n",
    "dataset = aposentados.drop_duplicates(subset=['name', 'cpf'], keep='first')\n",
    "dataset.shape"
   ]
  },
  {
   "cell_type": "markdown",
   "metadata": {},
   "source": [
    "## Hypotesis\n",
    "* H0 the retirement value for men and women are equal\n",
    "* HA are different"
   ]
  },
  {
   "cell_type": "code",
   "execution_count": 7,
   "metadata": {},
   "outputs": [
    {
     "name": "stdout",
     "output_type": "stream",
     "text": [
      "Nº men: 188279\n",
      "Nº women: 214787\n"
     ]
    }
   ],
   "source": [
    "men = dataset.loc[dataset.gender == \"M\", \"value\"].to_numpy()\n",
    "mn = men.shape[0]\n",
    "print(\"Nº men:\", mn)\n",
    "\n",
    "women = dataset.loc[dataset.gender == \"F\", \"value\"].to_numpy()\n",
    "wn = women.shape[0]\n",
    "print(\"Nº women:\", wn)"
   ]
  },
  {
   "cell_type": "code",
   "execution_count": 8,
   "metadata": {},
   "outputs": [
    {
     "data": {
      "text/plain": [
       "count    188279.000000\n",
       "mean       6915.299872\n",
       "std        5040.456637\n",
       "min           0.010000\n",
       "25%        3549.720000\n",
       "50%        5096.640000\n",
       "75%        8572.830000\n",
       "max      106853.170000\n",
       "Name: value, dtype: float64"
      ]
     },
     "execution_count": 8,
     "metadata": {},
     "output_type": "execute_result"
    }
   ],
   "source": [
    "dataset.loc[dataset.gender == \"M\", \"value\"].describe()"
   ]
  },
  {
   "cell_type": "code",
   "execution_count": 9,
   "metadata": {},
   "outputs": [
    {
     "data": {
      "text/plain": [
       "count    214787.000000\n",
       "mean       5993.709033\n",
       "std        4241.784136\n",
       "min           0.010000\n",
       "25%        3228.910000\n",
       "50%        4616.490000\n",
       "75%        7083.270000\n",
       "max       77048.590000\n",
       "Name: value, dtype: float64"
      ]
     },
     "execution_count": 9,
     "metadata": {},
     "output_type": "execute_result"
    }
   ],
   "source": [
    "dataset.loc[dataset.gender == \"F\", \"value\"].describe()"
   ]
  },
  {
   "cell_type": "code",
   "execution_count": 10,
   "metadata": {},
   "outputs": [
    {
     "name": "stdout",
     "output_type": "stream",
     "text": [
      "t = 62.31671917322511\n",
      "p = 0.0\n"
     ]
    }
   ],
   "source": [
    "t, p = stats.ttest_ind(men, women, equal_var=False)\n",
    "print(\"t = \" + str(t))\n",
    "print(\"p = \" + str(p))"
   ]
  }
 ],
 "metadata": {
  "kernelspec": {
   "display_name": "Python 3",
   "language": "python",
   "name": "python3"
  },
  "language_info": {
   "codemirror_mode": {
    "name": "ipython",
    "version": 3
   },
   "file_extension": ".py",
   "mimetype": "text/x-python",
   "name": "python",
   "nbconvert_exporter": "python",
   "pygments_lexer": "ipython3",
   "version": "3.7.3"
  }
 },
 "nbformat": 4,
 "nbformat_minor": 4
}
