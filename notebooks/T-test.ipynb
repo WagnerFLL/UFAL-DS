{
 "cells": [
  {
   "cell_type": "code",
   "execution_count": 1,
   "metadata": {},
   "outputs": [],
   "source": [
    "import os\n",
    "import sys\n",
    "import pandas as pd\n",
    "import numpy as np\n",
    "import plotly.express as px\n",
    "from scipy import stats\n",
    "\n",
    "\n",
    "PROJECT_NAME = 'UFAL-DS'\n",
    "curdir = os.path.abspath(os.path.curdir).split('/')\n",
    "project_index = curdir.index(PROJECT_NAME)\n",
    "os.chdir('/' + os.path.join(*curdir[:project_index + 1]))"
   ]
  },
  {
   "cell_type": "code",
   "execution_count": 15,
   "metadata": {},
   "outputs": [
    {
     "data": {
      "text/plain": [
       "(415950, 19)"
      ]
     },
     "execution_count": 15,
     "metadata": {},
     "output_type": "execute_result"
    }
   ],
   "source": [
    "aposentados = pd.read_csv(\"data/processed/aposentados.csv\")\n",
    "dataset = aposentados.drop_duplicates(subset=['name', 'cpf'], keep='first')\n",
    "dataset.shape"
   ]
  },
  {
   "cell_type": "markdown",
   "metadata": {},
   "source": [
    "## Hypotesis\n",
    "* H0 the retirement value for men and women are equal\n",
    "* HA are different"
   ]
  },
  {
   "cell_type": "code",
   "execution_count": 16,
   "metadata": {},
   "outputs": [
    {
     "name": "stdout",
     "output_type": "stream",
     "text": [
      "Nº men: 189145\n",
      "Nº women: 215542\n"
     ]
    }
   ],
   "source": [
    "men = dataset.loc[dataset.gender == \"M\", \"value\"].to_numpy()\n",
    "mn = men.shape[0]\n",
    "print(\"Nº men:\", mn)\n",
    "\n",
    "women = dataset.loc[dataset.gender == \"F\", \"value\"].to_numpy()\n",
    "wn = women.shape[0]\n",
    "print(\"Nº women:\", wn)"
   ]
  },
  {
   "cell_type": "code",
   "execution_count": 17,
   "metadata": {},
   "outputs": [
    {
     "data": {
      "text/plain": [
       "count    189145.000000\n",
       "mean       6921.636250\n",
       "std        5052.191104\n",
       "min           0.010000\n",
       "25%        3552.220000\n",
       "50%        5098.450000\n",
       "75%        8579.640000\n",
       "max      106853.170000\n",
       "Name: value, dtype: float64"
      ]
     },
     "execution_count": 17,
     "metadata": {},
     "output_type": "execute_result"
    }
   ],
   "source": [
    "dataset.loc[dataset.gender == \"M\", \"value\"].describe()"
   ]
  },
  {
   "cell_type": "code",
   "execution_count": 18,
   "metadata": {},
   "outputs": [
    {
     "data": {
      "text/plain": [
       "count    215542.000000\n",
       "mean       6002.055352\n",
       "std        4255.832307\n",
       "min           0.010000\n",
       "25%        3230.867500\n",
       "50%        4619.670000\n",
       "75%        7091.075000\n",
       "max       77048.590000\n",
       "Name: value, dtype: float64"
      ]
     },
     "execution_count": 18,
     "metadata": {},
     "output_type": "execute_result"
    }
   ],
   "source": [
    "dataset.loc[dataset.gender == \"F\", \"value\"].describe()"
   ]
  },
  {
   "cell_type": "code",
   "execution_count": 19,
   "metadata": {},
   "outputs": [
    {
     "name": "stdout",
     "output_type": "stream",
     "text": [
      "t = 62.142643046731465\n",
      "p = 0.0\n"
     ]
    }
   ],
   "source": [
    "t, p = stats.ttest_ind(men, women, equal_var=False)\n",
    "print(\"t = \" + str(t))\n",
    "print(\"p = \" + str(p))"
   ]
  },
  {
   "cell_type": "markdown",
   "metadata": {},
   "source": [
    "## Profissional level"
   ]
  },
  {
   "cell_type": "code",
   "execution_count": 23,
   "metadata": {},
   "outputs": [
    {
     "data": {
      "text/plain": [
       "801"
      ]
     },
     "execution_count": 23,
     "metadata": {},
     "output_type": "execute_result"
    }
   ],
   "source": [
    "max(dataset[\"level\"].unique())"
   ]
  },
  {
   "cell_type": "code",
   "execution_count": 33,
   "metadata": {},
   "outputs": [
    {
     "name": "stdout",
     "output_type": "stream",
     "text": [
      "t = -0.31748355234366427\n",
      "p = 0.7508898625365367\n"
     ]
    }
   ],
   "source": [
    "men = dataset.loc[(dataset.gender == \"M\") & (dataset.level == 801), \"value\"].to_numpy()\n",
    "mn = men.shape[0]\n",
    "\n",
    "women = dataset.loc[(dataset.gender == \"F\") & (dataset.level == 801), \"value\"].to_numpy()\n",
    "wn = women.shape[0]\n",
    "\n",
    "t, p = stats.ttest_ind(men, women, equal_var=False)\n",
    "print(\"t = \" + str(t))\n",
    "print(\"p = \" + str(p))"
   ]
  },
  {
   "cell_type": "code",
   "execution_count": 34,
   "metadata": {},
   "outputs": [
    {
     "data": {
      "text/plain": [
       "15063.986239729338"
      ]
     },
     "execution_count": 34,
     "metadata": {},
     "output_type": "execute_result"
    }
   ],
   "source": [
    "men.mean()"
   ]
  },
  {
   "cell_type": "code",
   "execution_count": 35,
   "metadata": {},
   "outputs": [
    {
     "data": {
      "text/plain": [
       "15103.84823583181"
      ]
     },
     "execution_count": 35,
     "metadata": {},
     "output_type": "execute_result"
    }
   ],
   "source": [
    "women.mean()"
   ]
  },
  {
   "cell_type": "markdown",
   "metadata": {},
   "source": [
    "## Region"
   ]
  },
  {
   "cell_type": "code",
   "execution_count": 36,
   "metadata": {},
   "outputs": [
    {
     "data": {
      "text/plain": [
       "(22213, 29)"
      ]
     },
     "execution_count": 36,
     "metadata": {},
     "output_type": "execute_result"
    }
   ],
   "source": [
    "aposentados = pd.read_csv(\"data/processed/aposentados.csv\")\n",
    "abono = pd.read_csv(\"data/processed/abono.csv\")\n",
    "\n",
    "aposentados = aposentados.drop_duplicates(subset=['name', 'cpf'], keep='first')\n",
    "abono = abono.drop_duplicates(subset=['name', 'cpf'], keep='first')\n",
    "\n",
    "aposentados[\"retirement_year\"] = pd.to_datetime(aposentados.retirement_date).dt.year\n",
    "\n",
    "use_cols = [\n",
    "    'registration_n', 'agency_acronym', 'superior_agency_cod', \n",
    "    'classes', 'pattern', 'ref', 'level', 'retirement_type', \n",
    "    'legal_substantiation', 'doc_title', 'retirement_date',\n",
    "    'admission_type', 'admission_date', 'value'\n",
    "]\n",
    "data = abono.merge(aposentados[['name', 'cpf'] + use_cols], left_on=['name', 'cpf'], right_on=['name', 'cpf'])\n",
    "\n",
    "data.shape"
   ]
  },
  {
   "cell_type": "code",
   "execution_count": 37,
   "metadata": {},
   "outputs": [],
   "source": [
    "dataset = data\n",
    "dataset.loc[dataset.upag_state == \"pi\", \"region\"] = \"nordeste\"\n",
    "dataset.loc[dataset.upag_state == \"ma\", \"region\"] = \"nordeste\"\n",
    "dataset.loc[dataset.upag_state == \"ce\", \"region\"] = \"nordeste\"\n",
    "dataset.loc[dataset.upag_state == \"rn\", \"region\"] = \"nordeste\"\n",
    "dataset.loc[dataset.upag_state == \"pb\", \"region\"] = \"nordeste\"\n",
    "dataset.loc[dataset.upag_state == \"pe\", \"region\"] = \"nordeste\"\n",
    "dataset.loc[dataset.upag_state == \"al\", \"region\"] = \"nordeste\"\n",
    "dataset.loc[dataset.upag_state == \"se\", \"region\"] = \"nordeste\"\n",
    "dataset.loc[dataset.upag_state == \"ba\", \"region\"] = \"nordeste\"\n",
    "\n",
    "dataset.loc[dataset.upag_state == \"es\", \"region\"] = \"sudeste\"\n",
    "dataset.loc[dataset.upag_state == \"rj\", \"region\"] = \"sudeste\"\n",
    "dataset.loc[dataset.upag_state == \"sp\", \"region\"] = \"sudeste\"\n",
    "dataset.loc[dataset.upag_state == \"mg\", \"region\"] = \"sudeste\"\n",
    "\n",
    "dataset.loc[dataset.upag_state == \"ac\", \"region\"] = \"norte\"\n",
    "dataset.loc[dataset.upag_state == \"am\", \"region\"] = \"norte\"\n",
    "dataset.loc[dataset.upag_state == \"ro\", \"region\"] = \"norte\"\n",
    "dataset.loc[dataset.upag_state == \"rr\", \"region\"] = \"norte\"\n",
    "dataset.loc[dataset.upag_state == \"am\", \"region\"] = \"norte\"\n",
    "dataset.loc[dataset.upag_state == \"pa\", \"region\"] = \"norte\"\n",
    "dataset.loc[dataset.upag_state == \"to\", \"region\"] = \"norte\"\n",
    "\n",
    "dataset.loc[dataset.upag_state == \"df\", \"region\"] = \"centro-oeste\"\n",
    "dataset.loc[dataset.upag_state == \"go\", \"region\"] = \"centro-oeste\"\n",
    "dataset.loc[dataset.upag_state == \"mt\", \"region\"] = \"centro-oeste\"\n",
    "dataset.loc[dataset.upag_state == \"ms\", \"region\"] = \"centro-oeste\"\n",
    "\n",
    "dataset.loc[dataset.upag_state == \"pr\", \"region\"] = \"sul\"\n",
    "dataset.loc[dataset.upag_state == \"rs\", \"region\"] = \"sul\"\n",
    "dataset.loc[dataset.upag_state == \"sc\", \"region\"] = \"sul\""
   ]
  },
  {
   "cell_type": "code",
   "execution_count": 38,
   "metadata": {},
   "outputs": [
    {
     "name": "stdout",
     "output_type": "stream",
     "text": [
      "nordeste\n",
      "t = -5.057939757322786\n",
      "p = 4.369759664256538e-07\n",
      "sudeste\n",
      "t = 3.0442103869883086\n",
      "p = 0.0023412555385567075\n",
      "norte\n",
      "t = 3.534136771043425\n",
      "p = 0.00041810071196586314\n",
      "centro-oeste\n",
      "t = 1.4734028949038966\n",
      "p = 0.1407255989157796\n",
      "sul\n",
      "t = 2.9098284220500097\n",
      "p = 0.003669048508179476\n"
     ]
    }
   ],
   "source": [
    "for region in [\"nordeste\", \"sudeste\", \"norte\", \"centro-oeste\", \"sul\"]:\n",
    "    men = dataset.loc[(dataset.gender == \"M\") & (dataset.region == region), \"value_y\"].to_numpy()\n",
    "    mn = men.shape[0]\n",
    "\n",
    "    women = dataset.loc[(dataset.gender == \"F\") & (dataset.region == region), \"value_y\"].to_numpy()\n",
    "    wn = women.shape[0]\n",
    "    \n",
    "    t, p = stats.ttest_ind(men, women, equal_var=False)\n",
    "    print(region)\n",
    "    print(\"t = \" + str(t))\n",
    "    print(\"p = \" + str(p))"
   ]
  },
  {
   "cell_type": "code",
   "execution_count": 51,
   "metadata": {},
   "outputs": [
    {
     "data": {
      "text/plain": [
       "5761.060670897551"
      ]
     },
     "execution_count": 51,
     "metadata": {},
     "output_type": "execute_result"
    }
   ],
   "source": [
    "dataset.loc[(dataset.gender == \"M\") & (dataset.region == \"nordeste\"), \"value_y\"].mean()"
   ]
  },
  {
   "cell_type": "code",
   "execution_count": 52,
   "metadata": {},
   "outputs": [
    {
     "data": {
      "text/plain": [
       "6341.348445769662"
      ]
     },
     "execution_count": 52,
     "metadata": {},
     "output_type": "execute_result"
    }
   ],
   "source": [
    "dataset.loc[(dataset.gender == \"F\") & (dataset.region == \"nordeste\"), \"value_y\"].mean()"
   ]
  },
  {
   "cell_type": "markdown",
   "metadata": {},
   "source": [
    "## Educational level "
   ]
  },
  {
   "cell_type": "code",
   "execution_count": 58,
   "metadata": {},
   "outputs": [
    {
     "name": "stdout",
     "output_type": "stream",
     "text": [
      "t = 3.4515111954735755\n",
      "p = 0.0005684066830451799\n"
     ]
    }
   ],
   "source": [
    "level = [\n",
    "    'doutorado                                    ',\n",
    "    'mestrado                                     '\n",
    "]\n",
    "men = abono.loc[(abono.gender == \"M\") & (abono.educational_level.isin(level)), \"value\"].to_numpy()\n",
    "mn = men.shape[0]\n",
    "\n",
    "women = abono.loc[(abono.gender == \"F\") & (abono.educational_level.isin(level)), \"value\"].to_numpy()\n",
    "wn = women.shape[0]\n",
    "\n",
    "t, p = stats.ttest_ind(men, women, equal_var=False)\n",
    "print(\"t = \" + str(t))\n",
    "print(\"p = \" + str(p))"
   ]
  },
  {
   "cell_type": "code",
   "execution_count": 46,
   "metadata": {},
   "outputs": [
    {
     "data": {
      "text/plain": [
       "array(['ensino medio                                 ',\n",
       "       'ensino superior                              ',\n",
       "       'ensino fundamental                           ',\n",
       "       'segundo grau incompleto                      ',\n",
       "       'ensino fundamental incompleto                ',\n",
       "       'mestrado                                     ',\n",
       "       'doutorado                                    ',\n",
       "       'alfabetizado sem cursos regulares            ',\n",
       "       'superior incompleto                          ',\n",
       "       '4a. serie do primeiro grau completa          ',\n",
       "       'primeiro grau incomp.-ate a 4a.serie incomp. '], dtype=object)"
      ]
     },
     "execution_count": 46,
     "metadata": {},
     "output_type": "execute_result"
    }
   ],
   "source": [
    "dataset.educational_level.unique()"
   ]
  },
  {
   "cell_type": "code",
   "execution_count": 60,
   "metadata": {},
   "outputs": [
    {
     "data": {
      "text/plain": [
       "1928.3729773269688"
      ]
     },
     "execution_count": 60,
     "metadata": {},
     "output_type": "execute_result"
    }
   ],
   "source": [
    "women.mean()"
   ]
  },
  {
   "cell_type": "code",
   "execution_count": 49,
   "metadata": {},
   "outputs": [
    {
     "data": {
      "text/plain": [
       "(1597, 15)"
      ]
     },
     "execution_count": 49,
     "metadata": {},
     "output_type": "execute_result"
    }
   ],
   "source": [
    "abono.loc[abono.educational_level == 'doutorado                                    '].shape"
   ]
  }
 ],
 "metadata": {
  "kernelspec": {
   "display_name": "Python 3",
   "language": "python",
   "name": "python3"
  },
  "language_info": {
   "codemirror_mode": {
    "name": "ipython",
    "version": 3
   },
   "file_extension": ".py",
   "mimetype": "text/x-python",
   "name": "python",
   "nbconvert_exporter": "python",
   "pygments_lexer": "ipython3",
   "version": "3.7.3"
  }
 },
 "nbformat": 4,
 "nbformat_minor": 4
}
