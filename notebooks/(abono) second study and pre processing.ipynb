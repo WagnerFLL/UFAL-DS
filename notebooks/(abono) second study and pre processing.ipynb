{
 "cells": [
  {
   "cell_type": "code",
   "execution_count": 3,
   "metadata": {},
   "outputs": [],
   "source": [
    "import csv\n",
    "import gzip\n",
    "import io\n",
    "\n",
    "import os\n",
    "import sys\n",
    "import glob\n",
    "import datetime\n",
    "import warnings\n",
    "from functools import partial\n",
    "from unicodedata import normalize\n",
    "\n",
    "import numpy as np\n",
    "import pandas as pd\n",
    "from pandas import DataFrame\n",
    "from pandas_profiling import ProfileReport\n",
    "\n",
    "import matplotlib.pyplot as plt\n",
    "import matplotlib.ticker as ticker\n",
    "import seaborn as sns\n",
    "\n",
    "\n",
    "\n",
    "warnings.filterwarnings(\"ignore\")\n",
    "\n",
    "%matplotlib inline\n",
    "\n",
    "color = (0.45, 0.57, 1)\n",
    "sns.set(style=\"whitegrid\")\n",
    "\n",
    "pd.set_option('display.max_rows', None)\n",
    "pd.set_option('display.max_columns', None)\n",
    "pd.set_option('use_inf_as_na', True)\n",
    "\n",
    "PROJECT_NAME = 'UFAL-DS'\n",
    "#curdir = os.path.abspath(os.path.curdir).split('\\\\')\n",
    "#project_index = curdir.index(PROJECT_NAME)\n",
    "#os.chdir('/' + os.path.join(*curdir[:project_index + 1]))"
   ]
  },
  {
   "cell_type": "code",
   "execution_count": 4,
   "metadata": {},
   "outputs": [],
   "source": [
    "directory:str = \"data/raw/abono/*.csv\""
   ]
  },
  {
   "cell_type": "code",
   "execution_count": 5,
   "metadata": {},
   "outputs": [],
   "source": [
    "cols_dict = {\n",
    "    'Denominação do órgão de atuação' : 'agency', \n",
    "    'Val' : 'value', 'UF da Residência' : 'state',\n",
    "    'Denominação unidade organizacional' : 'unit', \n",
    "    'Nível de Escolaridade' : 'educational_level', \n",
    "    'Quantidade de anos no Serviço público' : 'years',\n",
    "    'Quantidade de meses no Serviço público' : 'months',\n",
    "    'Descrição do cargo emprego' : 'role', 'CPF' : 'cpf',\n",
    "    'UF da UPAG de vinculação' : 'upag_state', 'Nome' : 'name',\n",
    "    'Situação servidor' : 'status', 'Cidade da residência' : 'city',\n",
    "    'Ano/Mês inicial do abono de permanência' : 'allowance_start_date',\n",
    "}\n",
    "\n",
    "cat_cols = [\n",
    "    'name', 'role', 'educational_level', 'agency', \n",
    "    'upag_state', 'unit', 'state', 'city', 'status',\n",
    "]\n",
    "\n",
    "num_cols = [\n",
    "    'years', 'months'\n",
    "]"
   ]
  },
  {
   "cell_type": "code",
   "execution_count": 11,
   "metadata": {},
   "outputs": [],
   "source": [
    "from IPython import get_ipython\n",
    "get_ipython().magic('reset -sf') "
   ]
  },
  {
   "cell_type": "code",
   "execution_count": 12,
   "metadata": {},
   "outputs": [
    {
     "name": "stdout",
     "output_type": "stream",
     "text": [
      "Once deleted, variables cannot be recovered. Proceed (y/[n])? y\n"
     ]
    }
   ],
   "source": [
    "%reset"
   ]
  },
  {
   "cell_type": "code",
   "execution_count": 9,
   "metadata": {},
   "outputs": [],
   "source": [
    "def sanitize(df: DataFrame) -> DataFrame:\n",
    "    df = df.rename(columns=cols_dict)\n",
    "    \n",
    "    df['value'] = df['value'].str.replace(',', '.').astype(float)\n",
    "    df['allowance_start_date'] = pd.to_datetime(\n",
    "        df['allowance_start_date'], format='%Y%m'\n",
    "    )\n",
    "    \n",
    "    for col in cat_cols:\n",
    "        df[col] = df[col].str.lower()\n",
    "    \n",
    "    return df\n",
    "\n",
    "\n",
    "def read_data(directory:str = \"C:/Users/wagne/Documents/Aninha/Projetos/data/raw/abono/*.csv\") -> DataFrame:\n",
    "    df = pd.concat(\n",
    "        [\n",
    "            pd.read_csv(file, encoding=\"ISO-8859-1\", sep=';') \n",
    "            for file in glob.glob(directory)\n",
    "        ],\n",
    "        ignore_index=False\n",
    "    )\n",
    "    \n",
    "    df = df.reset_index()\n",
    "    new_columns = list(df.columns[1:]) + [\"NaN\"]\n",
    "    cols = {\n",
    "        old:new for old, new in zip(df.columns, new_columns)\n",
    "    }\n",
    "    \n",
    "    df.rename(columns=cols, inplace=True)\n",
    "    df.drop(\"NaN\", axis=1, inplace=True)\n",
    "    \n",
    "    df = sanitize(df)\n",
    "    \n",
    "    return df"
   ]
  },
  {
   "cell_type": "code",
   "execution_count": 10,
   "metadata": {},
   "outputs": [
    {
     "data": {
      "text/html": [
       "<div>\n",
       "<style scoped>\n",
       "    .dataframe tbody tr th:only-of-type {\n",
       "        vertical-align: middle;\n",
       "    }\n",
       "\n",
       "    .dataframe tbody tr th {\n",
       "        vertical-align: top;\n",
       "    }\n",
       "\n",
       "    .dataframe thead th {\n",
       "        text-align: right;\n",
       "    }\n",
       "</style>\n",
       "<table border=\"1\" class=\"dataframe\">\n",
       "  <thead>\n",
       "    <tr style=\"text-align: right;\">\n",
       "      <th></th>\n",
       "      <th>name</th>\n",
       "      <th>cpf</th>\n",
       "      <th>role</th>\n",
       "      <th>educational_level</th>\n",
       "      <th>agency</th>\n",
       "      <th>upag_state</th>\n",
       "      <th>unit</th>\n",
       "      <th>state</th>\n",
       "      <th>city</th>\n",
       "      <th>status</th>\n",
       "      <th>years</th>\n",
       "      <th>months</th>\n",
       "      <th>allowance_start_date</th>\n",
       "      <th>value</th>\n",
       "    </tr>\n",
       "  </thead>\n",
       "  <tbody>\n",
       "    <tr>\n",
       "      <th>0</th>\n",
       "      <td>cicero joaquim dos santos filho               ...</td>\n",
       "      <td>***204574**</td>\n",
       "      <td>auditor fiscal federal agropecuario</td>\n",
       "      <td>ensino superior</td>\n",
       "      <td>minist.da agricultura,pecuaria e abast.</td>\n",
       "      <td>pe</td>\n",
       "      <td>sup fed agric pec abast est pernambuco</td>\n",
       "      <td>pe</td>\n",
       "      <td>caruaru</td>\n",
       "      <td>ativo permanente</td>\n",
       "      <td>43</td>\n",
       "      <td>8</td>\n",
       "      <td>2003-12-01</td>\n",
       "      <td>2241.38</td>\n",
       "    </tr>\n",
       "    <tr>\n",
       "      <th>1</th>\n",
       "      <td>paulo elisio de faria                         ...</td>\n",
       "      <td>***402121**</td>\n",
       "      <td>agente administrativo</td>\n",
       "      <td>ensino superior</td>\n",
       "      <td>minist.da agricultura,pecuaria e abast.</td>\n",
       "      <td>df</td>\n",
       "      <td>coord geral adm de pessoas</td>\n",
       "      <td>df</td>\n",
       "      <td>brasilia</td>\n",
       "      <td>ativo permanente</td>\n",
       "      <td>41</td>\n",
       "      <td>7</td>\n",
       "      <td>2010-01-01</td>\n",
       "      <td>558.32</td>\n",
       "    </tr>\n",
       "    <tr>\n",
       "      <th>2</th>\n",
       "      <td>maria vanilda dos santos                      ...</td>\n",
       "      <td>***184061**</td>\n",
       "      <td>agente administrativo</td>\n",
       "      <td>ensino medio</td>\n",
       "      <td>minist.da agricultura,pecuaria e abast.</td>\n",
       "      <td>df</td>\n",
       "      <td>coord geral adm de pessoas</td>\n",
       "      <td>df</td>\n",
       "      <td>brasilia</td>\n",
       "      <td>ativo permanente</td>\n",
       "      <td>41</td>\n",
       "      <td>6</td>\n",
       "      <td>2009-04-01</td>\n",
       "      <td>550.73</td>\n",
       "    </tr>\n",
       "    <tr>\n",
       "      <th>3</th>\n",
       "      <td>sonia candida batista                         ...</td>\n",
       "      <td>***086171**</td>\n",
       "      <td>contador</td>\n",
       "      <td>ensino superior</td>\n",
       "      <td>minist.da agricultura,pecuaria e abast.</td>\n",
       "      <td>df</td>\n",
       "      <td>coord geral adm de pessoas</td>\n",
       "      <td>df</td>\n",
       "      <td>brasilia</td>\n",
       "      <td>ativo em outro orgao</td>\n",
       "      <td>41</td>\n",
       "      <td>5</td>\n",
       "      <td>2009-09-01</td>\n",
       "      <td>1070.10</td>\n",
       "    </tr>\n",
       "    <tr>\n",
       "      <th>4</th>\n",
       "      <td>maria graci da conceicao maxima               ...</td>\n",
       "      <td>***803611**</td>\n",
       "      <td>agente de portaria</td>\n",
       "      <td>ensino medio</td>\n",
       "      <td>minist.da agricultura,pecuaria e abast.</td>\n",
       "      <td>df</td>\n",
       "      <td>coord geral adm de pessoas</td>\n",
       "      <td>df</td>\n",
       "      <td>brasilia</td>\n",
       "      <td>ativo em outro orgao</td>\n",
       "      <td>41</td>\n",
       "      <td>3</td>\n",
       "      <td>2003-12-01</td>\n",
       "      <td>543.75</td>\n",
       "    </tr>\n",
       "  </tbody>\n",
       "</table>\n",
       "</div>"
      ],
      "text/plain": [
       "                                                name          cpf  \\\n",
       "0  cicero joaquim dos santos filho               ...  ***204574**   \n",
       "1  paulo elisio de faria                         ...  ***402121**   \n",
       "2  maria vanilda dos santos                      ...  ***184061**   \n",
       "3  sonia candida batista                         ...  ***086171**   \n",
       "4  maria graci da conceicao maxima               ...  ***803611**   \n",
       "\n",
       "                                       role  \\\n",
       "0  auditor fiscal federal agropecuario        \n",
       "1  agente administrativo                      \n",
       "2  agente administrativo                      \n",
       "3  contador                                   \n",
       "4  agente de portaria                         \n",
       "\n",
       "                               educational_level  \\\n",
       "0  ensino superior                                 \n",
       "1  ensino superior                                 \n",
       "2  ensino medio                                    \n",
       "3  ensino superior                                 \n",
       "4  ensino medio                                    \n",
       "\n",
       "                                     agency upag_state  \\\n",
       "0  minist.da agricultura,pecuaria e abast.          pe   \n",
       "1  minist.da agricultura,pecuaria e abast.          df   \n",
       "2  minist.da agricultura,pecuaria e abast.          df   \n",
       "3  minist.da agricultura,pecuaria e abast.          df   \n",
       "4  minist.da agricultura,pecuaria e abast.          df   \n",
       "\n",
       "                                       unit state  \\\n",
       "0  sup fed agric pec abast est pernambuco      pe   \n",
       "1  coord geral adm de pessoas                  df   \n",
       "2  coord geral adm de pessoas                  df   \n",
       "3  coord geral adm de pessoas                  df   \n",
       "4  coord geral adm de pessoas                  df   \n",
       "\n",
       "                             city                status  years  months  \\\n",
       "0  caruaru                         ativo permanente         43       8   \n",
       "1  brasilia                        ativo permanente         41       7   \n",
       "2  brasilia                        ativo permanente         41       6   \n",
       "3  brasilia                        ativo em outro orgao     41       5   \n",
       "4  brasilia                        ativo em outro orgao     41       3   \n",
       "\n",
       "  allowance_start_date    value  \n",
       "0           2003-12-01  2241.38  \n",
       "1           2010-01-01   558.32  \n",
       "2           2009-04-01   550.73  \n",
       "3           2009-09-01  1070.10  \n",
       "4           2003-12-01   543.75  "
      ]
     },
     "execution_count": 10,
     "metadata": {},
     "output_type": "execute_result"
    }
   ],
   "source": [
    "dataset = read_data()\n",
    "dataset.head()"
   ]
  },
  {
   "cell_type": "code",
   "execution_count": 13,
   "metadata": {},
   "outputs": [
    {
     "name": "stdout",
     "output_type": "stream",
     "text": [
      "Once deleted, variables cannot be recovered. Proceed (y/[n])? y\n"
     ]
    }
   ],
   "source": [
    "%reset"
   ]
  },
  {
   "cell_type": "code",
   "execution_count": null,
   "metadata": {},
   "outputs": [],
   "source": [
    "dataset.shape"
   ]
  },
  {
   "cell_type": "code",
   "execution_count": null,
   "metadata": {},
   "outputs": [],
   "source": [
    "dataset.drop_duplicates(subset=\"name\",  keep=\"last\")"
   ]
  },
  {
   "cell_type": "code",
   "execution_count": null,
   "metadata": {},
   "outputs": [],
   "source": [
    "dataset.dtypes"
   ]
  },
  {
   "cell_type": "code",
   "execution_count": null,
   "metadata": {},
   "outputs": [],
   "source": [
    "dataset.drop(dataset[dataset.allowance_start_date < '2003-12-16'].index)"
   ]
  },
  {
   "cell_type": "code",
   "execution_count": null,
   "metadata": {},
   "outputs": [],
   "source": [
    "#dataset['role_gp'] = dataset['role'].str.strip()\n",
    "dataset.loc[dataset.role.str.contains(\"medico\"), \"role_gp\"] = \"medico\"\n",
    "dataset.loc[dataset.role.str.contains(\"psicologo\"), \"role_gp\"] = \"psicologo\"\n",
    "dataset.loc[dataset.role.str.contains(\"odont\"), \"role_gp\"] = \"odontologo\"\n",
    "dataset.loc[dataset.role.str.contains(\"enfermei\"), \"role_gp\"] = \"enfermeiro\"\n",
    "dataset.loc[dataset.role.str.contains(\"tecnico\"), \"role_gp\"] = \"tecnico\"\n",
    "dataset.loc[dataset.role.str.contains(\"tec\"), \"role_gp\"] = \"tecnico\"\n",
    "dataset.loc[dataset.role.str.contains(\"professor\"), \"role_gp\"] = \"professor\"\n",
    "dataset.loc[dataset.role.str.contains(\"agente\"), \"role_gp\"] = \"agente\"\n",
    "dataset.loc[dataset.role.str.contains(\"ag \"), \"role_gp\"] = \"agente\"\n",
    "dataset.loc[dataset.role.str.contains(\"aux\"), \"role_gp\"] = \"auxiliar\"\n",
    "dataset.loc[dataset.role.str.contains(\"analista\"), \"role_gp\"] = \"analista\"\n",
    "dataset.loc[dataset.role.str.contains(\"assistente\"), \"role_gp\"] = \"assistente\"\n",
    "dataset.loc[dataset.role.str.contains(\"operador\"), \"role_gp\"] = \"operador\"\n",
    "dataset.loc[dataset.role.str.contains(\"policia\"), \"role_gp\"] = \"policia\"\n",
    "dataset.loc[dataset.role.str.contains(\"engenhe\"), \"role_gp\"] = \"engenheiro\"\n",
    "dataset.loc[dataset.role.str.contains(\"especialista\"), \"role_gp\"] = \"especialista\"\n",
    "dataset.loc[dataset.role.str.contains(\"servente\"), \"role_gp\"] = \"servente\"\n",
    "dataset.loc[dataset.role.str.contains(\"auditor\"), \"role_gp\"] = \"auditor\"\n",
    "dataset.loc[dataset.role.str.contains(\"administrador\"), \"role_gp\"] = \"administrador\"\n",
    "dataset.loc[dataset.role.str.contains(\"motorista\"), \"role_gp\"] = \"motorista\"\n",
    "dataset.loc[dataset.role.str.contains(\"datilografo\"), \"role_gp\"] = \"datilografo\"\n",
    "dataset.loc[dataset.role.str.contains(\"procurador\"), \"role_gp\"] = \"procurador\"\n",
    "dataset.loc[dataset.role.str.contains(\"advogado\"), \"role_gp\"] = \"advogado\"\n",
    "dataset.loc[dataset.role.str.contains(\"recepcionista\"), \"role_gp\"] = \"recepcionista\"\n",
    "dataset.loc[dataset.role.str.contains(\"pesq\"), \"role_gp\"] = \"pesquisador\"\n",
    "dataset.loc[dataset.role.str.contains(\"esp\"), \"role_gp\"] = \"especialista\"\n",
    "\n",
    "dataset.loc[dataset.role_gp.isna(), \"role_gp\"] = \"outros\" "
   ]
  },
  {
   "cell_type": "code",
   "execution_count": null,
   "metadata": {},
   "outputs": [],
   "source": [
    "dataset['agency_gp'] = dataset['agency'].str.strip()\n",
    "\n",
    "dataset.loc[dataset.agency_gp.str.contains(\"instituto federal\"), \"agency_gp\"] = \"instituto\"\n",
    "dataset.loc[dataset.agency_gp.str.contains(\"instituto fed.\"), \"agency_gp\"] = \"instituto_federal\"\n",
    "dataset.loc[dataset.agency_gp.str.contains(\"colegio pedro ii\"), \"agency_gp\"] = \"instituto_federal\"\n",
    "dataset.loc[dataset.agency_gp.str.contains(\"instituto\"), \"agency_gp\"] = \"instituto\"\n",
    "dataset.loc[dataset.agency_gp.str.contains(\"universidade federal\"), \"agency_gp\"] = \"universidade\"\n",
    "dataset.loc[dataset.agency_gp.str.contains(\"universidade fed.\"), \"agency_gp\"] = \"universidade\"\n",
    "dataset.loc[dataset.agency_gp.str.contains(\"univ.\"), \"agency_gp\"] = \"universidade\"\n",
    "dataset.loc[dataset.agency_gp.str.contains(\"uni.fed\"), \"agency_gp\"] = \"universidade\"\n",
    "dataset.loc[dataset.agency_gp.str.contains(\"fund. inst. brasil. geog. e estatistica\"), \"agency_gp\"] = \"ibge\"\n",
    "dataset.loc[dataset.agency_gp.str.contains(\"fundacao\"), \"agency_gp\"] = \"fundacao\"\n",
    "dataset.loc[dataset.agency_gp.str.contains(\"fund\"), \"agency_gp\"] = \"fundacao\"\n",
    "dataset.loc[dataset.agency_gp.str.contains(\"instituto nacional de seguro social\"), \"agency_gp\"] = \"inss\"\n",
    "dataset.loc[dataset.agency_gp.str.contains(\"agencia\"), \"agency_gp\"] = \"agencia\"\n",
    "dataset.loc[dataset.agency_gp.str.contains(\"minist\"), \"agency_gp\"] = \"ministerio\"\n",
    "dataset.loc[dataset.agency_gp.str.contains(\"superin\"), \"agency_gp\"] = \"superintendencia\"\n",
    "dataset.loc[dataset.agency_gp.str.contains(\"advocacia\"), \"agency_gp\"] = \"advocacia\"\n",
    "\n",
    "#dataset.loc[dataset.agency_gp.isna(), \"agency_gp\"] = \"outros\" "
   ]
  },
  {
   "cell_type": "code",
   "execution_count": null,
   "metadata": {},
   "outputs": [],
   "source": [
    "plt.figure(figsize=(15,8))\n",
    "\n",
    "chart = sns.boxplot(\n",
    "    x=\"agency_gp\", y=\"value\", \n",
    "    data=dataset, color=color, showfliers=False\n",
    ")\n",
    "\n",
    "_ = chart.set_xticklabels(chart.get_xticklabels(), rotation=90, horizontalalignment='right')"
   ]
  },
  {
   "cell_type": "code",
   "execution_count": null,
   "metadata": {},
   "outputs": [],
   "source": [
    "dataset.loc[dataset.upag_state == \"pi\", \"region\"] = \"nordeste\"\n",
    "dataset.loc[dataset.upag_state == \"ma\", \"region\"] = \"nordeste\"\n",
    "dataset.loc[dataset.upag_state == \"ce\", \"region\"] = \"nordeste\"\n",
    "dataset.loc[dataset.upag_state == \"rn\", \"region\"] = \"nordeste\"\n",
    "dataset.loc[dataset.upag_state == \"pb\", \"region\"] = \"nordeste\"\n",
    "dataset.loc[dataset.upag_state == \"pe\", \"region\"] = \"nordeste\"\n",
    "dataset.loc[dataset.upag_state == \"al\", \"region\"] = \"nordeste\"\n",
    "dataset.loc[dataset.upag_state == \"se\", \"region\"] = \"nordeste\"\n",
    "dataset.loc[dataset.upag_state == \"ba\", \"region\"] = \"nordeste\"\n",
    "\n",
    "dataset.loc[dataset.upag_state == \"es\", \"region\"] = \"sudeste\"\n",
    "dataset.loc[dataset.upag_state == \"rj\", \"region\"] = \"sudeste\"\n",
    "dataset.loc[dataset.upag_state == \"sp\", \"region\"] = \"sudeste\"\n",
    "dataset.loc[dataset.upag_state == \"mg\", \"region\"] = \"sudeste\"\n",
    "\n",
    "dataset.loc[dataset.upag_state == \"ac\", \"region\"] = \"norte\"\n",
    "dataset.loc[dataset.upag_state == \"am\", \"region\"] = \"norte\"\n",
    "dataset.loc[dataset.upag_state == \"ro\", \"region\"] = \"norte\"\n",
    "dataset.loc[dataset.upag_state == \"rr\", \"region\"] = \"norte\"\n",
    "dataset.loc[dataset.upag_state == \"am\", \"region\"] = \"norte\"\n",
    "dataset.loc[dataset.upag_state == \"pa\", \"region\"] = \"norte\"\n",
    "dataset.loc[dataset.upag_state == \"to\", \"region\"] = \"norte\"\n",
    "\n",
    "dataset.loc[dataset.upag_state == \"df\", \"region\"] = \"centro-oeste\"\n",
    "dataset.loc[dataset.upag_state == \"go\", \"region\"] = \"centro-oeste\"\n",
    "dataset.loc[dataset.upag_state == \"mt\", \"region\"] = \"centro-oeste\"\n",
    "dataset.loc[dataset.upag_state == \"ms\", \"region\"] = \"centro-oeste\"\n",
    "\n",
    "dataset.loc[dataset.upag_state == \"pr\", \"region\"] = \"sul\"\n",
    "dataset.loc[dataset.upag_state == \"rs\", \"region\"] = \"sul\"\n",
    "dataset.loc[dataset.upag_state == \"sc\", \"region\"] = \"sul\"\n",
    "\n"
   ]
  },
  {
   "cell_type": "code",
   "execution_count": null,
   "metadata": {},
   "outputs": [],
   "source": [
    "dataset.loc[\n",
    "    (dataset.educational_level == '4a. serie do primeiro grau completa          ') |\n",
    "    (dataset.educational_level == 'ensino fundamental incompleto                ') |\n",
    "    (dataset.educational_level == 'primeiro grau incomp.-ate a 4a.serie incomp. '),\n",
    "    \"educational_level\"\n",
    "] = \"1º grau incompleto\"\n",
    "\n",
    "dataset.loc[\n",
    "    dataset.educational_level == 'segundo grau incompleto                      ',\n",
    "    \"educational_level\"\n",
    "] = \"2º grau incompleto\"\n",
    "\n",
    "dataset.loc[\n",
    "    dataset.educational_level == 'alfabetizado sem cursos regulares            ',\n",
    "    \"educational_level\"\n",
    "] = \"alfabetizado\"\n",
    "\n",
    "\n",
    "dataset[\"educational_level\"] = dataset[\"educational_level\"].str.rstrip()"
   ]
  },
  {
   "cell_type": "markdown",
   "metadata": {},
   "source": [
    "### Analisando o gênero \n",
    "A analise de gênero do beneficiário é realizada com base no Censo 2010."
   ]
  },
  {
   "cell_type": "code",
   "execution_count": null,
   "metadata": {},
   "outputs": [],
   "source": [
    "def load_name_data():\n",
    "    fobj = io.TextIOWrapper(gzip.open(\"C:/Users/Aninha/Documents/Area de Trabalho/UFAL-DS/data/raw/censo/nomes.csv.gz\"), encoding=\"utf-8\")\n",
    "    csv_reader = csv.DictReader(fobj)\n",
    "    data = {\n",
    "        row[\"first_name\"]: row[\"classification\"]\n",
    "        for row in csv_reader\n",
    "    }\n",
    "    fobj.close()\n",
    "    return data\n",
    "\n",
    "name_data = load_name_data()\n",
    "\n",
    "print(f\"Dicionário de nomes do Censo 2010 contendo {len(name_data)} nomes.\")"
   ]
  },
  {
   "cell_type": "code",
   "execution_count": null,
   "metadata": {},
   "outputs": [],
   "source": [
    "def encode(name):\n",
    "    ascii_name = normalize(\"NFKD\", name).encode(\"ascii\", errors=\"ignore\").decode(\"ascii\")\n",
    "    return ascii_name.upper()\n",
    "\n",
    "def classify_gender(name):\n",
    "    encoded_name = encode(name)\n",
    "    try:\n",
    "        gender = name_data[encoded_name]\n",
    "        return gender\n",
    "    except:\n",
    "        return \"NaN\"\n",
    "\n",
    "print(classify_gender(\"Wagner\"))"
   ]
  },
  {
   "cell_type": "code",
   "execution_count": null,
   "metadata": {},
   "outputs": [],
   "source": [
    "dataset[\"gender\"] = dataset.name.str.split(\" \").str[0]\n",
    "dataset[\"gender\"] = dataset.gender.map(classify_gender)"
   ]
  },
  {
   "cell_type": "code",
   "execution_count": null,
   "metadata": {},
   "outputs": [],
   "source": [
    "f, (ax_box, ax_hist) = plt.subplots(2, sharex=True, gridspec_kw={\"height_ratios\": (0.25, 1)}, figsize=(16,8))\n",
    "mean = dataset.value.mean()\n",
    "median = dataset.value.median()\n",
    "\n",
    "_ = sns.boxplot(dataset.value, ax=ax_box,  color=color, showfliers=True)\n",
    "_ = ax_box.axvline(mean, color='r', linestyle='--')\n",
    "_ = ax_box.axvline(median, color='g', linestyle='-')\n",
    "_ = ax_box.set(xlabel='')\n",
    "\n",
    "_ = sns.distplot(dataset.value, ax=ax_hist, color=color, kde=False)\n",
    "_ = ax_hist.axvline(mean, color='r', linestyle='--')\n",
    "_ = ax_hist.axvline(median, color='g', linestyle='-')\n",
    "_ = ax_hist.xaxis.set_major_locator(ticker.MultipleLocator(5000))\n",
    "\n",
    "_ = plt.legend({'Mean':mean,'Median':median}, fontsize='large')"
   ]
  },
  {
   "cell_type": "markdown",
   "metadata": {},
   "source": [
    "### Criação do csv com os dados preprocessados"
   ]
  },
  {
   "cell_type": "code",
   "execution_count": null,
   "metadata": {},
   "outputs": [],
   "source": [
    "dataset.to_csv('C:/Users/Aninha/Documents/Area de Trabalho/UFAL-DS/data/raw/preprocessing/abono.csv', sep=',')"
   ]
  },
  {
   "cell_type": "code",
   "execution_count": null,
   "metadata": {},
   "outputs": [],
   "source": [
    "dataset = pd.read_csv('C:/Users/Aninha/Documents/Area de Trabalho/UFAL-DS/data/raw/preprocessing/abono.csv', sep=',')\n",
    "dataset.head()"
   ]
  },
  {
   "cell_type": "code",
   "execution_count": null,
   "metadata": {},
   "outputs": [],
   "source": [
    "## Tirando os outliers\n",
    "![title](https://www.gradusct.com.br/wp-content/uploads/2018/07/Boxplot-04.png)"
   ]
  },
  {
   "cell_type": "code",
   "execution_count": null,
   "metadata": {},
   "outputs": [],
   "source": [
    "values = dataset['value']\n",
    "\n",
    "q1 = values.quantile(.25)\n",
    "q3 = values.quantile(.75)\n",
    "iiq = q3 - q1\n",
    "minimum = q1 - 1.5*iiq\n",
    "maximum = q3 + 1.5*iiq\n",
    "\n",
    "selection = (values >= minimum) & (values <= maximum)\n",
    "data_new = dataset[selection]\n",
    "\n",
    "selection = (values <= minimum) | (values >= maximum)\n",
    "data_outliers = dataset[selection]"
   ]
  },
  {
   "cell_type": "markdown",
   "metadata": {},
   "source": [
    "## Análise dos dados (sem os Outiliers)"
   ]
  },
  {
   "cell_type": "code",
   "execution_count": null,
   "metadata": {},
   "outputs": [],
   "source": [
    "profile = ProfileReport(data_new, title='Abono Permanencia',html={'style':{'full_width':True}})\n",
    "profile.to_notebook_iframe()"
   ]
  },
  {
   "cell_type": "code",
   "execution_count": null,
   "metadata": {},
   "outputs": [],
   "source": [
    "gp = data_new.groupby('region')\n",
    "levels = data_new.region.value_counts()\n",
    "\n",
    "fig = plt.figure(figsize=(14,30))\n",
    "fig.subplots_adjust(hspace=0.4, wspace=0.4)\n",
    "\n",
    "total_plots = levels.shape[0]\n",
    "i = 0\n",
    "for level in levels.keys():\n",
    "    ax = fig.add_subplot(total_plots, 2, i+1)\n",
    "    ax.set_title(level)\n",
    "    \n",
    "    top = gp.get_group(level)[\"gender\"].value_counts()[:3]\n",
    "    _ = sns.barplot(x=top.keys(), y=top.values, color=color, ax=ax)\n",
    "    \n",
    "    i += 1"
   ]
  },
  {
   "cell_type": "code",
   "execution_count": null,
   "metadata": {},
   "outputs": [],
   "source": [
    "plt.figure(figsize=(15,8))\n",
    "ax = sns.distplot(data_new.value, bins=10)"
   ]
  },
  {
   "cell_type": "code",
   "execution_count": null,
   "metadata": {},
   "outputs": [],
   "source": [
    "data_new[\"educational_level\"].value_counts()"
   ]
  },
  {
   "cell_type": "code",
   "execution_count": null,
   "metadata": {},
   "outputs": [],
   "source": [
    "f, (ax_box, ax_hist) = plt.subplots(2, sharex=True, gridspec_kw={\"height_ratios\": (0.25, 1)}, figsize=(16,8))\n",
    "mean = data_new.value.mean()\n",
    "median = data_new.value.median()\n",
    "\n",
    "_ = sns.boxplot(data_new.value, ax=ax_box,  color=color, showfliers=False)\n",
    "_ = ax_box.axvline(mean, color='r', linestyle='--')\n",
    "_ = ax_box.axvline(median, color='g', linestyle='-')\n",
    "_ = ax_box.set(xlabel='')\n",
    "\n",
    "_ = sns.distplot(data_new.value, ax=ax_hist, color=color, kde=False)\n",
    "_ = ax_hist.axvline(mean, color='r', linestyle='--')\n",
    "_ = ax_hist.axvline(median, color='g', linestyle='-')\n",
    "_ = ax_hist.xaxis.set_major_locator(ticker.MultipleLocator(5000))\n",
    "\n",
    "_ = plt.legend({'Mean':mean,'Median':median}, fontsize='large')"
   ]
  },
  {
   "cell_type": "code",
   "execution_count": null,
   "metadata": {},
   "outputs": [],
   "source": [
    "data_new.boxplot(['value'], by = ['role_gp'], figsize = (15,8), rot=90, fontsize = 10)"
   ]
  },
  {
   "cell_type": "code",
   "execution_count": null,
   "metadata": {},
   "outputs": [],
   "source": [
    "gp = data_new.groupby('role_gp')\n",
    "levels = data_new.role_gp.value_counts()\n",
    "\n",
    "fig = plt.figure(figsize=(14,60))\n",
    "fig.subplots_adjust(hspace=0.8, wspace=0.4)\n",
    "\n",
    "total_plots = levels.shape[0]\n",
    "i = 0\n",
    "for level in levels.keys():\n",
    "    ax = fig.add_subplot(total_plots, 2, i+1)\n",
    "    ax.set_title(level)\n",
    "    \n",
    "    top = gp.get_group(level)[\"agency_gp\"].value_counts()[:3]\n",
    "    _ = sns.barplot(x=top.keys(), y=top.values, color=color, ax=ax)\n",
    "    \n",
    "    i += 1"
   ]
  },
  {
   "cell_type": "code",
   "execution_count": null,
   "metadata": {},
   "outputs": [],
   "source": [
    "gp = data_new.groupby('role_gp')\n",
    "levels = data_new.role_gp.value_counts()\n",
    "\n",
    "fig = plt.figure(figsize=(14,60))\n",
    "fig.subplots_adjust(hspace=0.8, wspace=0.4)\n",
    "\n",
    "total_plots = levels.shape[0]\n",
    "i = 0\n",
    "for level in levels.keys():\n",
    "    ax = fig.add_subplot(total_plots, 2, i+1)\n",
    "    ax.set_title(level)\n",
    "    \n",
    "    top = gp.get_group(level)[\"region\"].value_counts()\n",
    "    _ = sns.barplot(x=top.keys(), y=top.values, color=color, ax=ax)\n",
    "    \n",
    "    i += 1"
   ]
  },
  {
   "cell_type": "code",
   "execution_count": null,
   "metadata": {},
   "outputs": [],
   "source": [
    "print(\"Mediana:\", data_new.value.median())\n",
    "print(\"Média\", data_new.value.mean())\n",
    "print(\"Percentil\", data_new.value.quantile(0.75))\n",
    "print(\"Desvio Padrão\", data_new.value.std())"
   ]
  },
  {
   "cell_type": "code",
   "execution_count": null,
   "metadata": {},
   "outputs": [],
   "source": [
    "states = data_new.groupby('state')\n",
    "order = states.value.median().sort_values(ascending=True)\n",
    "order"
   ]
  },
  {
   "cell_type": "code",
   "execution_count": null,
   "metadata": {},
   "outputs": [],
   "source": [
    "plt.figure(figsize=(15,8))\n",
    "states = data_new.groupby('state')\n",
    "order = states.value.median().sort_values(ascending=True).keys().to_list()\n",
    "\n",
    "chart = sns.boxplot(\n",
    "    x=\"upag_state\", y=\"value\", \n",
    "    data=data_new, color=color, showfliers=False, order=order\n",
    ")\n",
    "\n",
    "_ = chart.set_xticklabels(chart.get_xticklabels(), rotation=45, horizontalalignment='right')"
   ]
  },
  {
   "cell_type": "code",
   "execution_count": null,
   "metadata": {},
   "outputs": [],
   "source": [
    "plt.figure(figsize=(15,8))\n",
    "states = data_new.groupby('region')\n",
    "order = states.value.median().sort_values(ascending=True).keys().to_list()\n",
    "\n",
    "chart = sns.boxplot(\n",
    "    x=\"region\", y=\"value\", \n",
    "    data=data_new, color=color, showfliers=False, order = order\n",
    ")\n",
    "\n",
    "_ = chart.set_xticklabels(chart.get_xticklabels(), rotation=45, horizontalalignment='right')"
   ]
  },
  {
   "cell_type": "code",
   "execution_count": null,
   "metadata": {},
   "outputs": [],
   "source": [
    "plt.figure(figsize=(20,8))\n",
    "_ = sns.lineplot(x=\"allowance_start_date\", y=\"value\", data=data_new)"
   ]
  },
  {
   "cell_type": "code",
   "execution_count": null,
   "metadata": {},
   "outputs": [],
   "source": [
    "# Prepare data\n",
    "data_new['start_year'] = [d.year for d in data_new.allowance_start_date]\n",
    "data_new['start_month'] = [d.strftime('%b') for d in data_new.allowance_start_date]\n",
    "years = data_new['start_year'].unique()\n",
    "\n",
    "fig, axes = plt.subplots(2, 1, figsize=(15,16), dpi= 80)\n",
    "_ = sns.boxplot(x='start_year', y='value', data=data_new, ax=axes[0], showfliers=False)\n",
    "_ = sns.boxplot(x='start_month', y='value', data=data_new.loc[~data_new.start_year.isin([2000, 2020]), :], showfliers=False)\n",
    "\n",
    "# Set Title\n",
    "axes[0].set_title('Year-wise Box Plot\\n(The Trend)', fontsize=18); \n",
    "axes[1].set_title('Month-wise Box Plot\\n(The Seasonality)', fontsize=18)\n",
    "plt.show()"
   ]
  },
  {
   "cell_type": "code",
   "execution_count": null,
   "metadata": {},
   "outputs": [],
   "source": [
    "plt.figure(figsize=(15,8))\n",
    "\n",
    "chart = sns.boxplot(\n",
    "    x=\"educational_level\", y=\"value\", \n",
    "    data=data_new, color=color, showfliers=False\n",
    ")\n",
    "\n",
    "_ = chart.set_xticklabels(chart.get_xticklabels(), rotation=90, horizontalalignment='right')"
   ]
  },
  {
   "cell_type": "code",
   "execution_count": null,
   "metadata": {},
   "outputs": [],
   "source": [
    "ncount = data_new.shape[0]\n",
    "\n",
    "plt.figure(figsize=(14,10))\n",
    "\n",
    "order = [\n",
    "    'alfabetizado', '1º grau incompleto', 'ensino fundamental',\n",
    "    '2º grau incompleto', 'ensino medio', 'superior incompleto',\n",
    "    'ensino superior',  'mestrado', 'doutorado'\n",
    "]\n",
    "\n",
    "ax = sns.countplot(\n",
    "    x=\"educational_level\", data=data_new, \n",
    "    color=color, order=order\n",
    ")\n",
    "plt.xlabel('educational level')\n",
    "\n",
    "ax2=ax.twinx()\n",
    "\n",
    "ax2.yaxis.tick_left()\n",
    "ax.yaxis.tick_right()\n",
    "\n",
    "ax.yaxis.set_label_position('right')\n",
    "ax2.yaxis.set_label_position('left')\n",
    "\n",
    "ax2.set_ylabel('Frequency [%]')\n",
    "\n",
    "for p in ax.patches:\n",
    "    x=p.get_bbox().get_points()[:,0]\n",
    "    y=p.get_bbox().get_points()[1,1]\n",
    "    ax.annotate('{:.1f}%'.format(100.*y/ncount), (x.mean(), y), \n",
    "            ha='center', va='bottom') \n",
    "\n",
    "ax.yaxis.set_major_locator(ticker.LinearLocator(11))\n",
    "\n",
    "_ = ax.set_xticklabels(chart.get_xticklabels(), rotation=45, horizontalalignment='right')"
   ]
  },
  {
   "cell_type": "code",
   "execution_count": null,
   "metadata": {},
   "outputs": [],
   "source": [
    "data_new[\"educational_level\"].value_counts()"
   ]
  },
  {
   "cell_type": "markdown",
   "metadata": {},
   "source": [
    "## Análise dos Outliers"
   ]
  },
  {
   "cell_type": "code",
   "execution_count": null,
   "metadata": {},
   "outputs": [],
   "source": [
    "plt.figure(figsize=(15,8))\n",
    "ax = sns.distplot(data_outliers.value, bins=10)"
   ]
  },
  {
   "cell_type": "code",
   "execution_count": null,
   "metadata": {},
   "outputs": [],
   "source": [
    "profile_outliers = ProfileReport(data_new, title='Abono Permanencia - Outliers',html={'style':{'full_width':True}})\n",
    "profile_outliers.to_notebook_iframe()"
   ]
  },
  {
   "cell_type": "code",
   "execution_count": null,
   "metadata": {},
   "outputs": [],
   "source": [
    "data_outliers.boxplot(['value'], by = ['agency_gp'], figsize = (15,8), rot=90, fontsize = 10)"
   ]
  },
  {
   "cell_type": "code",
   "execution_count": null,
   "metadata": {},
   "outputs": [],
   "source": [
    "data_outliers.boxplot(['value'], by = ['role_gp'], figsize = (15,8), rot=90, fontsize = 10)"
   ]
  },
  {
   "cell_type": "code",
   "execution_count": null,
   "metadata": {},
   "outputs": [],
   "source": [
    "gp = data_outliers.groupby('region')\n",
    "levels = data_outliers.region.value_counts()\n",
    "\n",
    "fig = plt.figure(figsize=(14,30))\n",
    "fig.subplots_adjust(hspace=0.4, wspace=0.4)\n",
    "\n",
    "total_plots = levels.shape[0]\n",
    "i = 0\n",
    "for level in levels.keys():\n",
    "    ax = fig.add_subplot(total_plots, 2, i+1)\n",
    "    ax.set_title(level)\n",
    "    \n",
    "    top = gp.get_group(level)[\"gender\"].value_counts()[:3]\n",
    "    _ = sns.barplot(x=top.keys(), y=top.values, color=color, ax=ax)\n",
    "    \n",
    "    i += 1"
   ]
  },
  {
   "cell_type": "code",
   "execution_count": null,
   "metadata": {},
   "outputs": [],
   "source": [
    "gp = data_outliers.groupby('role_gp')\n",
    "levels = data_outliers.role_gp.value_counts()\n",
    "\n",
    "fig = plt.figure(figsize=(14,60))\n",
    "fig.subplots_adjust(hspace=0.8, wspace=0.4)\n",
    "\n",
    "total_plots = levels.shape[0]\n",
    "i = 0\n",
    "for level in levels.keys():\n",
    "    ax = fig.add_subplot(total_plots, 2, i+1)\n",
    "    ax.set_title(level)\n",
    "    \n",
    "    top = gp.get_group(level)[\"region\"].value_counts()\n",
    "    _ = sns.barplot(x=top.keys(), y=top.values, color=color, ax=ax)\n",
    "    \n",
    "    i += 1"
   ]
  },
  {
   "cell_type": "code",
   "execution_count": null,
   "metadata": {},
   "outputs": [],
   "source": [
    "dataset[dataset.gender == 'M'].educational_level.value_counts()"
   ]
  },
  {
   "cell_type": "code",
   "execution_count": null,
   "metadata": {},
   "outputs": [],
   "source": [
    "plt.figure(figsize=(15,8))\n",
    "\n",
    "chart = sns.countplot(x=\"educational_level\", hue=\"gender\", data=data_new)\n",
    "\n",
    "_ = chart.set_xticklabels(chart.get_xticklabels(), rotation=45, horizontalalignment='right')"
   ]
  }
 ],
 "metadata": {
  "kernelspec": {
   "display_name": "Python 3",
   "language": "python",
   "name": "python3"
  },
  "language_info": {
   "codemirror_mode": {
    "name": "ipython",
    "version": 3
   },
   "file_extension": ".py",
   "mimetype": "text/x-python",
   "name": "python",
   "nbconvert_exporter": "python",
   "pygments_lexer": "ipython3",
   "version": "3.8.3"
  }
 },
 "nbformat": 4,
 "nbformat_minor": 4
}
